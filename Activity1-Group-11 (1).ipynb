{
 "cells": [
  {
   "cell_type": "markdown",
   "metadata": {
    "id": "4z_Z-K1tlrS7"
   },
   "source": [
    "## 1. Complete the following code to find the area of an equilateral triangle. Output should be as displayed"
   ]
  },
  {
   "cell_type": "code",
   "execution_count": 4,
   "metadata": {
    "id": "rP2qFD_SlrS_"
   },
   "outputs": [
    {
     "name": "stdout",
     "output_type": "stream",
     "text": [
      "Enter the sides of the Equilateral triangle: 4\n",
      "6.928203230275509\n"
     ]
    }
   ],
   "source": [
    "import math\n",
    "side = float(input('Enter the sides of the Equilateral triangle: '))\n",
    "area = (((math.sqrt(3))/4)*(side**2))\n",
    "print(area)"
   ]
  },
  {
   "cell_type": "markdown",
   "metadata": {
    "id": "TjVKjIfclrTB"
   },
   "source": [
    "## 2. Write a program to count the number of each characters in a string"
   ]
  },
  {
   "cell_type": "code",
   "execution_count": 3,
   "metadata": {
    "id": "JY5seVUQlrTC"
   },
   "outputs": [
    {
     "name": "stdout",
     "output_type": "stream",
     "text": [
      "Enter the string : anaswara mohan k v\n",
      "Count of each characters of the string is : \n",
      " {'a': 5, 'n': 2, 's': 1, 'w': 1, 'r': 1, ' ': 3, 'm': 1, 'o': 1, 'h': 1, 'k': 1, 'v': 1}\n"
     ]
    }
   ],
   "source": [
    "string = input('Enter the string : ')\n",
    "char_count = {}\n",
    "for i in string:\n",
    "    if i in char_count:\n",
    "        char_count[i] += 1\n",
    "    else:\n",
    "        char_count[i] = 1\n",
    "print(\"Count of each characters of the string is : \\n\", str(char_count))"
   ]
  },
  {
   "cell_type": "markdown",
   "metadata": {
    "id": "l3LCULfklrTD"
   },
   "source": [
    "## Write a program to find the area and perimeter of a rectangle using functions"
   ]
  },
  {
   "cell_type": "code",
   "execution_count": 9,
   "metadata": {
    "id": "8haQD8edlrTD"
   },
   "outputs": [
    {
     "name": "stdout",
     "output_type": "stream",
     "text": [
      "Enter the width of Rectangle : 25\n",
      "Enter the height of Rectangle : 15\n",
      "Area of Rectangle is :  375\n",
      "Perimeter of Rectangle is :  80\n"
     ]
    }
   ],
   "source": [
    "def AreaOfRectange(width, height):\n",
    "    Area = width * height\n",
    "    Perimeter = 2 * (width + height)\n",
    "    print('Area of Rectangle is : ',Area)\n",
    "    print('Perimeter of Rectangle is : ',Perimeter)\n",
    "width=int(input(\"Enter the width of Rectangle : \"))\n",
    "height=int(input(\"Enter the height of Rectangle : \"))\n",
    "AreaOfRectange(width, height)"
   ]
  },
  {
   "cell_type": "markdown",
   "metadata": {
    "id": "JHK4ZdsflrTE"
   },
   "source": [
    "## 4. Write a program to print the fibonacci series till a specified number"
   ]
  },
  {
   "cell_type": "code",
   "execution_count": 11,
   "metadata": {
    "id": "LyBEj-4SlrTE"
   },
   "outputs": [
    {
     "name": "stdout",
     "output_type": "stream",
     "text": [
      "Enter the limit : 8\n",
      "Fibonacci Series:  0 1 1 2 3 5 8 13 "
     ]
    }
   ],
   "source": [
    "n = int(input(\"Enter the limit : \"))\n",
    "a = 0\n",
    "b = 1\n",
    "sum = 0\n",
    "count = 1\n",
    "print(\"Fibonacci Series: \", end = \" \")\n",
    "while(count <= n):\n",
    "  print(sum, end = \" \")\n",
    "  count += 1\n",
    "  a = b\n",
    "  b = sum\n",
    "  sum = a + b\n"
   ]
  },
  {
   "cell_type": "markdown",
   "metadata": {
    "id": "u4uBUcQKlrTE"
   },
   "source": [
    "## 5. Complete the following code to find the minimum of 3 number using cinditional statements. Output should be as displayed"
   ]
  },
  {
   "cell_type": "code",
   "execution_count": 65,
   "metadata": {
    "id": "XdZwrZjIlrTF",
    "scrolled": true
   },
   "outputs": [
    {
     "name": "stdout",
     "output_type": "stream",
     "text": [
      "Enter three numbers followed by  : 7 49 749\n",
      "First number : 7\n",
      "Second number : 49\n",
      "Third number : 749\n",
      "7  is smallest\n"
     ]
    }
   ],
   "source": [
    "a,b,c = (input(\"Enter three numbers followed by  : \")).split()\n",
    "a=int(a)\n",
    "b=int(b)\n",
    "c=int(c)\n",
    "print(\"First number :\",a)\n",
    "print(\"Second number :\",b)\n",
    "print(\"Third number :\",c)\n",
    "if (a==b and a==c):\n",
    "    print(\"Entered numbers are equal!!!\")\n",
    "elif (a<b and a<c):\n",
    "    print(a,\" is smallest\")\n",
    "elif (b<a and b<c):\n",
    "    print(b,\" is smallest\")\n",
    "else:\n",
    "    print(c,\" is smallest\")"
   ]
  },
  {
   "cell_type": "markdown",
   "metadata": {
    "id": "aR_CnToWlrTG"
   },
   "source": [
    "## 6. Write a program to print star pyramind. The number of rows should be taken as input from the user"
   ]
  },
  {
   "cell_type": "code",
   "execution_count": 19,
   "metadata": {
    "id": "M37A-buplrTG"
   },
   "outputs": [
    {
     "name": "stdout",
     "output_type": "stream",
     "text": [
      "Enter no of rows : 5\n",
      "    * \n",
      "   * * \n",
      "  * * * \n",
      " * * * * \n",
      "* * * * * \n"
     ]
    }
   ],
   "source": [
    "n=int(input('Enter no of rows : '))\n",
    "k=n-1\n",
    "for i in range(0,n):\n",
    "    for j in range(0,k):\n",
    "        print(' ',end=\"\")\n",
    "    k=k-1\n",
    "    for j in range(i+1):\n",
    "        print('* ',end=\"\")\n",
    "    print()"
   ]
  },
  {
   "cell_type": "markdown",
   "metadata": {
    "id": "tlY6aFWBlrTH"
   },
   "source": [
    "## 7. Complete the following code to convert hour into seconds. Output should be as displayed"
   ]
  },
  {
   "cell_type": "code",
   "execution_count": 20,
   "metadata": {
    "id": "YOZQFk7FlrTH"
   },
   "outputs": [
    {
     "name": "stdout",
     "output_type": "stream",
     "text": [
      "Enter the hours: 5\n",
      "5  Hour is equal to 18000  Seconds\n"
     ]
    }
   ],
   "source": [
    "def to_seconds(t):\n",
    "    t=t*(60*60)\n",
    "    return t\n",
    "time_in_hours = int(input('Enter the hours: '))\n",
    "print(time_in_hours ,\" Hour is equal to\" ,to_seconds(time_in_hours) ,\" Seconds\")"
   ]
  },
  {
   "cell_type": "markdown",
   "metadata": {
    "id": "CnYorNiLlrTI"
   },
   "source": [
    "## 8. Write a program to print multiplication table as below"
   ]
  },
  {
   "cell_type": "code",
   "execution_count": 26,
   "metadata": {
    "id": "dPQqDPuDlrTI"
   },
   "outputs": [
    {
     "name": "stdout",
     "output_type": "stream",
     "text": [
      "Input a number: 6\n",
      "6 x 1 = 6\n",
      "6 x 2 = 12\n",
      "6 x 3 = 18\n",
      "6 x 4 = 24\n",
      "6 x 5 = 30\n",
      "6 x 6 = 36\n",
      "6 x 7 = 42\n",
      "6 x 8 = 48\n",
      "6 x 9 = 54\n",
      "6 x 10 = 60\n"
     ]
    }
   ],
   "source": [
    "n = int(input(\"Input a number: \"))\n",
    "for i in range(1,11):\n",
    "   print(n,'x',i,'=',n*i)"
   ]
  },
  {
   "cell_type": "markdown",
   "metadata": {
    "id": "Fiaez8iblrTI"
   },
   "source": [
    "## 9. Write a program to take your 5 favorite food as list and print each as 'I like Biriyani'"
   ]
  },
  {
   "cell_type": "code",
   "execution_count": 30,
   "metadata": {
    "id": "39W1zFX7lrTJ"
   },
   "outputs": [
    {
     "name": "stdout",
     "output_type": "stream",
     "text": [
      "Enter the 5 favorite foods : \n",
      "Chappathi\n",
      "I like  Chappathi\n",
      "Porotta\n",
      "I like  Porotta\n",
      "Dosa\n",
      "I like  Dosa\n",
      "Vada\n",
      "I like  Vada\n",
      "Biriyani\n",
      "I like  Biriyani\n"
     ]
    }
   ],
   "source": [
    "fav_food=[]\n",
    "print(\"Enter the 5 favorite foods : \")\n",
    "for i in range(0,5):\n",
    "    food=str(input())\n",
    "    fav_food.append(food)\n",
    "    print(\"I like \",fav_food[i])"
   ]
  },
  {
   "cell_type": "markdown",
   "metadata": {
    "id": "3vlcDNNEP7d_"
   },
   "source": [
    "## 10. Find error(s) in the following code(if any) and rewrite code.\n",
    "\n"
   ]
  },
  {
   "cell_type": "code",
   "execution_count": 25,
   "metadata": {
    "id": "coREkcY3P9sG"
   },
   "outputs": [
    {
     "name": "stdout",
     "output_type": "stream",
     "text": [
      "Enter value of x:5\n",
      "5 and 0 are unequal\n",
      "5 and 1 are unequal\n",
      "5 and 2 are unequal\n",
      "5 and 3 are unequal\n",
      "5 and 4 are unequal\n",
      "5 and 5 are equal\n",
      "5 and 6 are unequal\n",
      "5 and 7 are unequal\n",
      "5 and 8 are unequal\n",
      "5 and 9 are unequal\n"
     ]
    }
   ],
   "source": [
    "x= int(input('Enter value of x:'))\n",
    "for y in range (0,10):\n",
    "     if x==y:\n",
    "          print(x,\"and\",y,\"are equal\")\n",
    "     else:\n",
    "         print(x,\"and\",y,\"are unequal\")"
   ]
  },
  {
   "cell_type": "code",
   "execution_count": null,
   "metadata": {},
   "outputs": [],
   "source": []
  }
 ],
 "metadata": {
  "colab": {
   "collapsed_sections": [],
   "name": "Q&A activity student file.ipynb",
   "provenance": []
  },
  "kernelspec": {
   "display_name": "Python 3 (ipykernel)",
   "language": "python",
   "name": "python3"
  },
  "language_info": {
   "codemirror_mode": {
    "name": "ipython",
    "version": 3
   },
   "file_extension": ".py",
   "mimetype": "text/x-python",
   "name": "python",
   "nbconvert_exporter": "python",
   "pygments_lexer": "ipython3",
   "version": "3.8.8"
  }
 },
 "nbformat": 4,
 "nbformat_minor": 1
}
