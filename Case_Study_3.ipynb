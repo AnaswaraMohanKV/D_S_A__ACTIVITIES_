{
  "nbformat": 4,
  "nbformat_minor": 0,
  "metadata": {
    "colab": {
      "name": "Case_Study_3.ipynb",
      "provenance": []
    },
    "kernelspec": {
      "name": "python3",
      "display_name": "Python 3"
    },
    "language_info": {
      "name": "python"
    }
  },
  "cells": [
    {
      "cell_type": "code",
      "execution_count": 1,
      "metadata": {
        "id": "3KKWuuyEGB5R"
      },
      "outputs": [],
      "source": [
        "import numpy as np\n",
        "import pandas as pd\n",
        "import matplotlib.pyplot as plt\n",
        "import seaborn as sns"
      ]
    },
    {
      "cell_type": "code",
      "source": [
        "data=pd.read_csv('Add_sales_data_2018.csv')\n",
        "data.head()"
      ],
      "metadata": {
        "colab": {
          "base_uri": "https://localhost:8080/",
          "height": 306
        },
        "id": "RkjubWrOGTVe",
        "outputId": "7d466fc5-0e1d-410d-d5c0-a65a5144f5fb"
      },
      "execution_count": 4,
      "outputs": [
        {
          "output_type": "execute_result",
          "data": {
            "text/html": [
              "<div>\n",
              "<style scoped>\n",
              "    .dataframe tbody tr th:only-of-type {\n",
              "        vertical-align: middle;\n",
              "    }\n",
              "\n",
              "    .dataframe tbody tr th {\n",
              "        vertical-align: top;\n",
              "    }\n",
              "\n",
              "    .dataframe thead th {\n",
              "        text-align: right;\n",
              "    }\n",
              "</style>\n",
              "<table border=\"1\" class=\"dataframe\">\n",
              "  <thead>\n",
              "    <tr style=\"text-align: right;\">\n",
              "      <th></th>\n",
              "      <th>Date</th>\n",
              "      <th>Add1(in Thousands)</th>\n",
              "      <th>Add2(in Thousands)</th>\n",
              "      <th>Add3(in Thousands)</th>\n",
              "      <th>Add4(in Thousands)</th>\n",
              "      <th>Add5(in Thousands)</th>\n",
              "      <th>Profit(in Thousands)</th>\n",
              "    </tr>\n",
              "  </thead>\n",
              "  <tbody>\n",
              "    <tr>\n",
              "      <th>0</th>\n",
              "      <td>2018-10-08</td>\n",
              "      <td>208.00</td>\n",
              "      <td>222.25</td>\n",
              "      <td>206.85</td>\n",
              "      <td>216.00</td>\n",
              "      <td>215.15</td>\n",
              "      <td>4093.065</td>\n",
              "    </tr>\n",
              "    <tr>\n",
              "      <th>1</th>\n",
              "      <td>2018-10-05</td>\n",
              "      <td>217.00</td>\n",
              "      <td>218.60</td>\n",
              "      <td>205.90</td>\n",
              "      <td>210.25</td>\n",
              "      <td>209.20</td>\n",
              "      <td>4042.448</td>\n",
              "    </tr>\n",
              "    <tr>\n",
              "      <th>2</th>\n",
              "      <td>2018-10-04</td>\n",
              "      <td>223.50</td>\n",
              "      <td>227.80</td>\n",
              "      <td>216.15</td>\n",
              "      <td>217.25</td>\n",
              "      <td>218.20</td>\n",
              "      <td>4213.819</td>\n",
              "    </tr>\n",
              "    <tr>\n",
              "      <th>3</th>\n",
              "      <td>2018-10-03</td>\n",
              "      <td>230.00</td>\n",
              "      <td>237.50</td>\n",
              "      <td>225.75</td>\n",
              "      <td>226.45</td>\n",
              "      <td>227.60</td>\n",
              "      <td>4391.665</td>\n",
              "    </tr>\n",
              "    <tr>\n",
              "      <th>4</th>\n",
              "      <td>2018-10-01</td>\n",
              "      <td>234.55</td>\n",
              "      <td>234.60</td>\n",
              "      <td>221.05</td>\n",
              "      <td>230.30</td>\n",
              "      <td>230.90</td>\n",
              "      <td>4350.683</td>\n",
              "    </tr>\n",
              "  </tbody>\n",
              "</table>\n",
              "</div>"
            ],
            "text/plain": [
              "         Date  Add1(in Thousands)  ...  Add5(in Thousands)  Profit(in Thousands)\n",
              "0  2018-10-08              208.00  ...              215.15              4093.065\n",
              "1  2018-10-05              217.00  ...              209.20              4042.448\n",
              "2  2018-10-04              223.50  ...              218.20              4213.819\n",
              "3  2018-10-03              230.00  ...              227.60              4391.665\n",
              "4  2018-10-01              234.55  ...              230.90              4350.683\n",
              "\n",
              "[5 rows x 7 columns]"
            ]
          },
          "metadata": {},
          "execution_count": 4
        }
      ]
    },
    {
      "cell_type": "code",
      "source": [
        "data.info()"
      ],
      "metadata": {
        "colab": {
          "base_uri": "https://localhost:8080/"
        },
        "id": "43fKpsSeHCYB",
        "outputId": "60fcffba-6ef1-46d0-f2e8-5db47ee7dcfe"
      },
      "execution_count": 5,
      "outputs": [
        {
          "output_type": "stream",
          "name": "stdout",
          "text": [
            "<class 'pandas.core.frame.DataFrame'>\n",
            "RangeIndex: 205 entries, 0 to 204\n",
            "Data columns (total 7 columns):\n",
            " #   Column                Non-Null Count  Dtype  \n",
            "---  ------                --------------  -----  \n",
            " 0   Date                  205 non-null    object \n",
            " 1   Add1(in Thousands)    205 non-null    float64\n",
            " 2   Add2(in Thousands)    205 non-null    float64\n",
            " 3   Add3(in Thousands)    205 non-null    float64\n",
            " 4   Add4(in Thousands)    205 non-null    float64\n",
            " 5   Add5(in Thousands)    205 non-null    float64\n",
            " 6   Profit(in Thousands)  205 non-null    float64\n",
            "dtypes: float64(6), object(1)\n",
            "memory usage: 11.3+ KB\n"
          ]
        }
      ]
    },
    {
      "cell_type": "markdown",
      "source": [
        "##1. First of all, check whether there is any relationship between the amount spent for advertising through five different companies and profit generated.\n"
      ],
      "metadata": {
        "id": "k96xuwUiHZQe"
      }
    },
    {
      "cell_type": "code",
      "source": [
        "freqgraph=data.select_dtypes(include=['float'])\n",
        "freqgraph.hist(figsize=(20,15))\n",
        "plt.show()"
      ],
      "metadata": {
        "colab": {
          "base_uri": "https://localhost:8080/",
          "height": 588
        },
        "id": "1GsD2o1nHFqO",
        "outputId": "aee9e8c4-3a1d-4edc-85b7-5c0186fb0ebe"
      },
      "execution_count": 6,
      "outputs": [
        {
          "output_type": "display_data",
          "data": {
            "image/png": "[encoded data removed]",
            "text/plain": [
              "<Figure size 1440x1080 with 6 Axes>"
            ]
          },
          "metadata": {
            "needs_background": "light"
          }
        }
      ]
    },
    {
      "cell_type": "code",
      "source": [
        "corr_matrix = data.corr()\n",
        "plt.subplots(figsize=(20,8))\n",
        "sns.heatmap(corr_matrix,vmin=0.97,vmax=1,annot=True,linewidth=0.2)"
      ],
      "metadata": {
        "colab": {
          "base_uri": "https://localhost:8080/",
          "height": 352
        },
        "id": "EFF3LZV0HJ8p",
        "outputId": "246c615d-62ea-4c93-e4c8-405f40cef5d8"
      },
      "execution_count": 7,
      "outputs": [
        {
          "output_type": "execute_result",
          "data": {
            "text/plain": [
              "<matplotlib.axes._subplots.AxesSubplot at 0x7f7cf110d2d0>"
            ]
          },
          "metadata": {},
          "execution_count": 7
        },
        {
          "output_type": "display_data",
          "data": {
            "image/png": "[encoded data removed]",
            "text/plain": [
              "<Figure size 1440x576 with 2 Axes>"
            ]
          },
          "metadata": {
            "needs_background": "light"
          }
        }
      ]
    },
    {
      "cell_type": "markdown",
      "source": [
        "There is strong positve correlation between the amount spent for advertising in all five different companies and profit generated as all the correlations occupies between 0.97 and 1.\n"
      ],
      "metadata": {
        "id": "hSF-40CLHmoU"
      }
    },
    {
      "cell_type": "markdown",
      "source": [
        "##2. Build a regression model to predict the profit from the given data and comment your findings on it.\n"
      ],
      "metadata": {
        "id": "UeXj2qx0H45n"
      }
    },
    {
      "cell_type": "code",
      "source": [
        "y= data['Profit(in Thousands)']"
      ],
      "metadata": {
        "id": "X5jtBguaHq78"
      },
      "execution_count": 8,
      "outputs": []
    },
    {
      "cell_type": "code",
      "source": [
        "X= data.drop(['Date','Profit(in Thousands)'],axis=1)"
      ],
      "metadata": {
        "id": "X8POe_sfIJ8Q"
      },
      "execution_count": 9,
      "outputs": []
    },
    {
      "cell_type": "code",
      "source": [
        "X.info()"
      ],
      "metadata": {
        "colab": {
          "base_uri": "https://localhost:8080/"
        },
        "id": "oV85NM30IOrV",
        "outputId": "4f7482a8-9ec8-48d1-b553-fd73f6afdb68"
      },
      "execution_count": 10,
      "outputs": [
        {
          "output_type": "stream",
          "name": "stdout",
          "text": [
            "<class 'pandas.core.frame.DataFrame'>\n",
            "RangeIndex: 205 entries, 0 to 204\n",
            "Data columns (total 5 columns):\n",
            " #   Column              Non-Null Count  Dtype  \n",
            "---  ------              --------------  -----  \n",
            " 0   Add1(in Thousands)  205 non-null    float64\n",
            " 1   Add2(in Thousands)  205 non-null    float64\n",
            " 2   Add3(in Thousands)  205 non-null    float64\n",
            " 3   Add4(in Thousands)  205 non-null    float64\n",
            " 4   Add5(in Thousands)  205 non-null    float64\n",
            "dtypes: float64(5)\n",
            "memory usage: 8.1 KB\n"
          ]
        }
      ]
    },
    {
      "cell_type": "code",
      "source": [
        "X"
      ],
      "metadata": {
        "colab": {
          "base_uri": "https://localhost:8080/",
          "height": 436
        },
        "id": "WPJdUVYCISbK",
        "outputId": "274b2a5a-4a22-4dfa-9a65-e699fb819051"
      },
      "execution_count": 11,
      "outputs": [
        {
          "output_type": "execute_result",
          "data": {
            "text/html": [
              "<div>\n",
              "<style scoped>\n",
              "    .dataframe tbody tr th:only-of-type {\n",
              "        vertical-align: middle;\n",
              "    }\n",
              "\n",
              "    .dataframe tbody tr th {\n",
              "        vertical-align: top;\n",
              "    }\n",
              "\n",
              "    .dataframe thead th {\n",
              "        text-align: right;\n",
              "    }\n",
              "</style>\n",
              "<table border=\"1\" class=\"dataframe\">\n",
              "  <thead>\n",
              "    <tr style=\"text-align: right;\">\n",
              "      <th></th>\n",
              "      <th>Add1(in Thousands)</th>\n",
              "      <th>Add2(in Thousands)</th>\n",
              "      <th>Add3(in Thousands)</th>\n",
              "      <th>Add4(in Thousands)</th>\n",
              "      <th>Add5(in Thousands)</th>\n",
              "    </tr>\n",
              "  </thead>\n",
              "  <tbody>\n",
              "    <tr>\n",
              "      <th>0</th>\n",
              "      <td>208.00</td>\n",
              "      <td>222.25</td>\n",
              "      <td>206.85</td>\n",
              "      <td>216.00</td>\n",
              "      <td>215.15</td>\n",
              "    </tr>\n",
              "    <tr>\n",
              "      <th>1</th>\n",
              "      <td>217.00</td>\n",
              "      <td>218.60</td>\n",
              "      <td>205.90</td>\n",
              "      <td>210.25</td>\n",
              "      <td>209.20</td>\n",
              "    </tr>\n",
              "    <tr>\n",
              "      <th>2</th>\n",
              "      <td>223.50</td>\n",
              "      <td>227.80</td>\n",
              "      <td>216.15</td>\n",
              "      <td>217.25</td>\n",
              "      <td>218.20</td>\n",
              "    </tr>\n",
              "    <tr>\n",
              "      <th>3</th>\n",
              "      <td>230.00</td>\n",
              "      <td>237.50</td>\n",
              "      <td>225.75</td>\n",
              "      <td>226.45</td>\n",
              "      <td>227.60</td>\n",
              "    </tr>\n",
              "    <tr>\n",
              "      <th>4</th>\n",
              "      <td>234.55</td>\n",
              "      <td>234.60</td>\n",
              "      <td>221.05</td>\n",
              "      <td>230.30</td>\n",
              "      <td>230.90</td>\n",
              "    </tr>\n",
              "    <tr>\n",
              "      <th>...</th>\n",
              "      <td>...</td>\n",
              "      <td>...</td>\n",
              "      <td>...</td>\n",
              "      <td>...</td>\n",
              "      <td>...</td>\n",
              "    </tr>\n",
              "    <tr>\n",
              "      <th>200</th>\n",
              "      <td>288.00</td>\n",
              "      <td>288.25</td>\n",
              "      <td>279.20</td>\n",
              "      <td>284.50</td>\n",
              "      <td>284.30</td>\n",
              "    </tr>\n",
              "    <tr>\n",
              "      <th>201</th>\n",
              "      <td>290.00</td>\n",
              "      <td>292.50</td>\n",
              "      <td>282.20</td>\n",
              "      <td>284.80</td>\n",
              "      <td>284.45</td>\n",
              "    </tr>\n",
              "    <tr>\n",
              "      <th>202</th>\n",
              "      <td>298.60</td>\n",
              "      <td>298.60</td>\n",
              "      <td>286.65</td>\n",
              "      <td>287.45</td>\n",
              "      <td>287.80</td>\n",
              "    </tr>\n",
              "    <tr>\n",
              "      <th>203</th>\n",
              "      <td>290.00</td>\n",
              "      <td>299.55</td>\n",
              "      <td>285.90</td>\n",
              "      <td>297.85</td>\n",
              "      <td>298.35</td>\n",
              "    </tr>\n",
              "    <tr>\n",
              "      <th>204</th>\n",
              "      <td>287.55</td>\n",
              "      <td>289.90</td>\n",
              "      <td>285.05</td>\n",
              "      <td>288.05</td>\n",
              "      <td>288.45</td>\n",
              "    </tr>\n",
              "  </tbody>\n",
              "</table>\n",
              "<p>205 rows × 5 columns</p>\n",
              "</div>"
            ],
            "text/plain": [
              "     Add1(in Thousands)  ...  Add5(in Thousands)\n",
              "0                208.00  ...              215.15\n",
              "1                217.00  ...              209.20\n",
              "2                223.50  ...              218.20\n",
              "3                230.00  ...              227.60\n",
              "4                234.55  ...              230.90\n",
              "..                  ...  ...                 ...\n",
              "200              288.00  ...              284.30\n",
              "201              290.00  ...              284.45\n",
              "202              298.60  ...              287.80\n",
              "203              290.00  ...              298.35\n",
              "204              287.55  ...              288.45\n",
              "\n",
              "[205 rows x 5 columns]"
            ]
          },
          "metadata": {},
          "execution_count": 11
        }
      ]
    },
    {
      "cell_type": "code",
      "source": [
        "y"
      ],
      "metadata": {
        "colab": {
          "base_uri": "https://localhost:8080/"
        },
        "id": "93wA1pWgISlv",
        "outputId": "40a3a1c8-63ad-4ab4-cd13-09bf11fb8d4e"
      },
      "execution_count": 12,
      "outputs": [
        {
          "output_type": "execute_result",
          "data": {
            "text/plain": [
              "0      4093.065\n",
              "1      4042.448\n",
              "2      4213.819\n",
              "3      4391.665\n",
              "4      4350.683\n",
              "         ...   \n",
              "200    5374.105\n",
              "201    5439.655\n",
              "202    5545.013\n",
              "203    5565.444\n",
              "204    5421.842\n",
              "Name: Profit(in Thousands), Length: 205, dtype: float64"
            ]
          },
          "metadata": {},
          "execution_count": 12
        }
      ]
    },
    {
      "cell_type": "code",
      "source": [
        "from sklearn.model_selection import train_test_split\n",
        "X_train,X_test,y_train,y_test = train_test_split(X,y,random_state=42,test_size=.25)"
      ],
      "metadata": {
        "id": "cxBeV_FqISuw"
      },
      "execution_count": 13,
      "outputs": []
    },
    {
      "cell_type": "code",
      "source": [
        "##building linear regression model\n",
        "from sklearn import linear_model\n",
        "lr = linear_model.LinearRegression()"
      ],
      "metadata": {
        "id": "wTRv-SfHIfLb"
      },
      "execution_count": 14,
      "outputs": []
    },
    {
      "cell_type": "code",
      "source": [
        "##creating model using training data\n",
        "model = lr.fit(X_train,y_train)"
      ],
      "metadata": {
        "id": "3Rb2IjOfIfVl"
      },
      "execution_count": 15,
      "outputs": []
    },
    {
      "cell_type": "code",
      "source": [
        "print(X_test)"
      ],
      "metadata": {
        "colab": {
          "base_uri": "https://localhost:8080/"
        },
        "id": "xaNtZZBOIfwy",
        "outputId": "db859817-c76e-4437-b1d7-c54b16599a65"
      },
      "execution_count": 16,
      "outputs": [
        {
          "output_type": "stream",
          "name": "stdout",
          "text": [
            "     Add1(in Thousands)  ...  Add5(in Thousands)\n",
            "15               216.35  ...              222.65\n",
            "9                233.55  ...              233.30\n",
            "100              280.00  ...              255.90\n",
            "132              258.05  ...              262.20\n",
            "68               265.10  ...              265.60\n",
            "95               244.10  ...              243.55\n",
            "159              287.95  ...              281.95\n",
            "162              282.00  ...              280.45\n",
            "147              274.80  ...              275.65\n",
            "182              315.00  ...              314.10\n",
            "191              306.50  ...              306.60\n",
            "164              259.00  ...              266.70\n",
            "65               271.00  ...              264.45\n",
            "175              306.00  ...              308.35\n",
            "73               263.70  ...              260.85\n",
            "152              264.20  ...              270.70\n",
            "18               221.00  ...              222.95\n",
            "82               266.90  ...              267.10\n",
            "86               269.70  ...              263.25\n",
            "143              275.90  ...              268.35\n",
            "60               268.25  ...              275.25\n",
            "101              284.40  ...              287.50\n",
            "98               240.00  ...              241.10\n",
            "30               246.90  ...              240.55\n",
            "25               233.85  ...              234.55\n",
            "16               222.50  ...              216.00\n",
            "168              302.90  ...              290.65\n",
            "195              302.25  ...              300.15\n",
            "97               243.50  ...              247.50\n",
            "194              301.00  ...              302.75\n",
            "67               263.00  ...              263.95\n",
            "120              274.00  ...              275.50\n",
            "154              265.00  ...              266.60\n",
            "202              298.60  ...              287.80\n",
            "79               262.75  ...              267.60\n",
            "69               264.80  ...              267.35\n",
            "145              272.00  ...              268.90\n",
            "55               257.90  ...              243.25\n",
            "45               243.70  ...              242.20\n",
            "84               255.50  ...              263.75\n",
            "146              276.70  ...              274.15\n",
            "66               262.70  ...              269.35\n",
            "111              292.50  ...              291.20\n",
            "153              265.95  ...              262.15\n",
            "96               248.30  ...              244.70\n",
            "38               237.25  ...              236.35\n",
            "24               235.35  ...              236.00\n",
            "139              278.00  ...              279.60\n",
            "112              283.05  ...              289.10\n",
            "29               240.30  ...              235.45\n",
            "19               224.00  ...              221.05\n",
            "178              323.00  ...              316.40\n",
            "\n",
            "[52 rows x 5 columns]\n"
          ]
        }
      ]
    },
    {
      "cell_type": "code",
      "source": [
        "predictions = model.predict(X_test)"
      ],
      "metadata": {
        "id": "SgQE6e4AIS2W"
      },
      "execution_count": 17,
      "outputs": []
    },
    {
      "cell_type": "code",
      "source": [
        "print(y_test)\n"
      ],
      "metadata": {
        "colab": {
          "base_uri": "https://localhost:8080/"
        },
        "id": "ub2nKU-JIuvE",
        "outputId": "88f285f7-ab96-4685-b325-bbf883113f35"
      },
      "execution_count": 18,
      "outputs": [
        {
          "output_type": "stream",
          "name": "stdout",
          "text": [
            "15     4152.066\n",
            "9      4446.441\n",
            "100    5131.898\n",
            "132    4907.560\n",
            "68     5004.282\n",
            "95     4623.793\n",
            "159    5384.175\n",
            "162    5328.025\n",
            "147    5175.051\n",
            "182    5956.323\n",
            "191    5780.799\n",
            "164    4997.719\n",
            "65     5075.858\n",
            "175    5784.540\n",
            "73     4936.120\n",
            "152    5065.652\n",
            "18     4190.965\n",
            "82     5034.726\n",
            "86     5015.536\n",
            "143    5134.657\n",
            "60     5145.131\n",
            "101    5421.940\n",
            "98     4569.293\n",
            "30     4598.292\n",
            "25     4436.321\n",
            "16     4175.677\n",
            "168    5616.791\n",
            "195    5667.250\n",
            "97     4648.834\n",
            "194    5717.838\n",
            "67     5001.615\n",
            "120    5182.368\n",
            "154    5017.503\n",
            "202    5545.013\n",
            "79     5013.207\n",
            "69     5030.451\n",
            "145    5108.626\n",
            "55     4760.877\n",
            "45     4606.340\n",
            "84     4925.861\n",
            "146    5250.788\n",
            "66     5038.222\n",
            "111    5491.792\n",
            "153    5019.997\n",
            "96     4647.356\n",
            "38     4486.380\n",
            "24     4435.174\n",
            "139    5300.437\n",
            "112    5425.190\n",
            "29     4482.183\n",
            "19     4193.095\n",
            "178    6062.457\n",
            "Name: Profit(in Thousands), dtype: float64\n"
          ]
        }
      ]
    },
    {
      "cell_type": "code",
      "source": [
        "print(predictions)"
      ],
      "metadata": {
        "colab": {
          "base_uri": "https://localhost:8080/"
        },
        "id": "TDRvrAK7Iyfn",
        "outputId": "1e73f528-002b-476b-c575-ddd20ebe26eb"
      },
      "execution_count": 19,
      "outputs": [
        {
          "output_type": "stream",
          "name": "stdout",
          "text": [
            "[4152.066 4446.441 5131.898 4907.56  5004.282 4623.793 5384.175 5328.025\n",
            " 5175.051 5956.323 5780.799 4997.719 5075.858 5784.54  4936.12  5065.652\n",
            " 4190.965 5034.726 5015.536 5134.657 5145.131 5421.94  4569.293 4598.292\n",
            " 4436.321 4175.677 5616.791 5667.25  4648.834 5717.838 5001.615 5182.368\n",
            " 5017.503 5545.013 5013.207 5030.451 5108.626 4760.877 4606.34  4925.861\n",
            " 5250.788 5038.222 5491.792 5019.997 4647.356 4486.38  4435.174 5300.437\n",
            " 5425.19  4482.183 4193.095 6062.457]\n"
          ]
        }
      ]
    },
    {
      "cell_type": "code",
      "source": [
        "from sklearn.metrics import mean_squared_error"
      ],
      "metadata": {
        "id": "RefXx6FlI3Jg"
      },
      "execution_count": 20,
      "outputs": []
    },
    {
      "cell_type": "code",
      "source": [
        "print('Mean Squared Error is', mean_squared_error(y_test,predictions))"
      ],
      "metadata": {
        "colab": {
          "base_uri": "https://localhost:8080/"
        },
        "id": "VCgL6V4MI3Fp",
        "outputId": "ac76739c-7a33-4b99-fcc3-39c99810427b"
      },
      "execution_count": 25,
      "outputs": [
        {
          "output_type": "stream",
          "name": "stdout",
          "text": [
            "Mean Squared Error is 4.931269036373819e-25\n"
          ]
        }
      ]
    },
    {
      "cell_type": "code",
      "source": [
        "from sklearn.metrics import r2_score\n",
        "print('R Sqrd Value is : ',r2_score(y_test,predictions))"
      ],
      "metadata": {
        "colab": {
          "base_uri": "https://localhost:8080/"
        },
        "id": "-uM7OigfI3By",
        "outputId": "94b04345-9317-430d-be2d-62f44f0c3482"
      },
      "execution_count": 26,
      "outputs": [
        {
          "output_type": "stream",
          "name": "stdout",
          "text": [
            "R Sqrd Value is :  1.0\n"
          ]
        }
      ]
    },
    {
      "cell_type": "code",
      "source": [
        "model.coef_"
      ],
      "metadata": {
        "colab": {
          "base_uri": "https://localhost:8080/"
        },
        "id": "nFeqIi30I25l",
        "outputId": "dc0f7e5f-bda5-40e2-ee1d-f3c7281942ef"
      },
      "execution_count": 27,
      "outputs": [
        {
          "output_type": "execute_result",
          "data": {
            "text/plain": [
              "array([ 1.  , 12.38,  3.5 ,  1.  ,  0.9 ])"
            ]
          },
          "metadata": {},
          "execution_count": 27
        }
      ]
    },
    {
      "cell_type": "code",
      "source": [
        "model.intercept_"
      ],
      "metadata": {
        "colab": {
          "base_uri": "https://localhost:8080/"
        },
        "id": "Aw9SwP0oI2hb",
        "outputId": "f5854faa-c90d-424a-d4d1-0a8f8107121d"
      },
      "execution_count": 28,
      "outputs": [
        {
          "output_type": "execute_result",
          "data": {
            "text/plain": [
              "2.7284841053187847e-12"
            ]
          },
          "metadata": {},
          "execution_count": 28
        }
      ]
    },
    {
      "cell_type": "markdown",
      "source": [
        "as R Squared Value = 1 and Mean Squared Error is 3.82, the prediction is perfect fit for the test values"
      ],
      "metadata": {
        "id": "wEfDwkI0JMVo"
      }
    },
    {
      "cell_type": "markdown",
      "source": [
        "##3. Predict the profit generated by the company, if they wish to spend the following amount for advertisement."
      ],
      "metadata": {
        "id": "8Xr4L0fEJm07"
      }
    },
    {
      "cell_type": "markdown",
      "source": [
        "#Add1(in Thousands) 290\n",
        "#Add2(in Thousands) 312\n",
        "#Add3(in Thousands) 309\n",
        "#Add4(in Thousands) 298\n",
        "#Add5(in Thousands) 320"
      ],
      "metadata": {
        "id": "Er4_x1haJsFF"
      }
    },
    {
      "cell_type": "code",
      "source": [
        "prediction1 = model.predict([[290,312,309,298,320]])"
      ],
      "metadata": {
        "colab": {
          "base_uri": "https://localhost:8080/"
        },
        "id": "kMqjPA1lIyoL",
        "outputId": "7fb52112-14bd-450c-a818-4835ed209723"
      },
      "execution_count": 30,
      "outputs": [
        {
          "output_type": "stream",
          "name": "stderr",
          "text": [
            "/usr/local/lib/python3.7/dist-packages/sklearn/base.py:446: UserWarning: X does not have valid feature names, but LinearRegression was fitted with feature names\n",
            "  \"X does not have valid feature names, but\"\n"
          ]
        }
      ]
    },
    {
      "cell_type": "code",
      "source": [
        "prediction1"
      ],
      "metadata": {
        "colab": {
          "base_uri": "https://localhost:8080/"
        },
        "id": "ytYc5fyKIvIK",
        "outputId": "aebcd838-e8be-45df-a6f3-33811039e89a"
      },
      "execution_count": 31,
      "outputs": [
        {
          "output_type": "execute_result",
          "data": {
            "text/plain": [
              "array([5820.06])"
            ]
          },
          "metadata": {},
          "execution_count": 31
        }
      ]
    },
    {
      "cell_type": "code",
      "source": [
        "#Let's check the answer by calculation \n",
        "290*1+312*12.38+309*3.5+298*1+320*0.9+1.8189894035458565e-12"
      ],
      "metadata": {
        "colab": {
          "base_uri": "https://localhost:8080/"
        },
        "id": "M-Qwj0g_J3me",
        "outputId": "1139c197-9527-4a75-ad52-5e7c73e8ee06"
      },
      "execution_count": 32,
      "outputs": [
        {
          "output_type": "execute_result",
          "data": {
            "text/plain": [
              "5820.060000000002"
            ]
          },
          "metadata": {},
          "execution_count": 32
        }
      ]
    },
    {
      "cell_type": "code",
      "source": [
        "#multilply by thousand as profit is given in thousands\n",
        "5820.060000000002*1000"
      ],
      "metadata": {
        "colab": {
          "base_uri": "https://localhost:8080/"
        },
        "id": "OPnIKn14J3Xu",
        "outputId": "0ee7b66c-6eee-491b-c572-04e1a76db7fe"
      },
      "execution_count": 33,
      "outputs": [
        {
          "output_type": "execute_result",
          "data": {
            "text/plain": [
              "5820060.000000002"
            ]
          },
          "metadata": {},
          "execution_count": 33
        }
      ]
    },
    {
      "cell_type": "markdown",
      "source": [
        "The profit generated by the company, if they wish to spend the amounts 290,312,309,298,320 for the advertisement is 5820060 Rupees.\n",
        " "
      ],
      "metadata": {
        "id": "pqFncO_gKTuR"
      }
    }
  ]
}