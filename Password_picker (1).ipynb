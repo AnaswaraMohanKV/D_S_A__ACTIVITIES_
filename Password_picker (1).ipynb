{
 "cells": [
  {
   "cell_type": "code",
   "execution_count": 6,
   "id": "d06fa1a0",
   "metadata": {},
   "outputs": [
    {
     "name": "stdout",
     "output_type": "stream",
     "text": [
      "New password is: deadnumber98=\n"
     ]
    }
   ],
   "source": [
    "import random\n",
    "\n",
    "adjectives=['Enormous','Silly','Useless','Fast','Nasty','Charming','Cruel','Furious','Fun','Fantastic','Gentle','Fabulous','Huge','Scariest','Perfect','Mischievious','Rough','Sharp','Messy','Dedicated','good','adorable','adventurous','aggressive',\n",
    "'blushing','bored','brainy','courageous','crazy','creepy','crowded','cruel','curious','cute','dangerous','dark','dead','defeated','defiant']\n",
    "noun=['president','time','person','year','girl','boy','way','day','thing','man','world','part','child','eye','woman','place','work','week','case','point','government','company','number','group','problem','fact']\n",
    "characters=['-','!','@','=','#'',$','~','%','^','&','*','_','?','/',',','+']\n",
    "adj=random.choice(adjectives)\n",
    "nou=random.choice(noun)\n",
    "num=random.randint(0,100)\n",
    "chars=random.choice(characters)\n",
    "print(\"New password is:\",str(adj)+str(nou)+str(num)+str(chars))"
   ]
  },
  {
   "cell_type": "code",
   "execution_count": null,
   "id": "ec104f4a",
   "metadata": {},
   "outputs": [],
   "source": []
  }
 ],
 "metadata": {
  "kernelspec": {
   "display_name": "Python 3 (ipykernel)",
   "language": "python",
   "name": "python3"
  },
  "language_info": {
   "codemirror_mode": {
    "name": "ipython",
    "version": 3
   },
   "file_extension": ".py",
   "mimetype": "text/x-python",
   "name": "python",
   "nbconvert_exporter": "python",
   "pygments_lexer": "ipython3",
   "version": "3.8.8"
  }
 },
 "nbformat": 4,
 "nbformat_minor": 5
}
